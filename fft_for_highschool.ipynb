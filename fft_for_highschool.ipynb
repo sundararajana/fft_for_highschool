{
 "cells": [
  {
   "cell_type": "markdown",
   "id": "fc01b9d0",
   "metadata": {},
   "source": [
    "# Fast Fourier Transform (FFT) for High School Kids?\n",
    "\n",
    "I saw a very interesting FFT algorithm explanation YouTube video by \"[**Reducible**](https://www.youtube.com/c/Reducible)\"\n",
    "\n",
    "\n",
    "## [The Fast Fourier Transform (FFT): Most Ingenious Algorithm Ever?](https://www.youtube.com/watch?v=h7apO7q16V0)\n",
    "\n",
    "\n",
    "\n",
    "The above video assumes only the following math topics:\n",
    "\n",
    "1. Polynomials\n",
    "2. Complex Numbers\n",
    "3. Matrices\n",
    "\n",
    "Knowledge of a programming language is useful as well.\n",
    "\n",
    "I think this explanation can be understood by a class XII CBSE student (equivalent to US high school senior year). The math requirements are covered by the syllabus. Python is taught as the programming language for \"Computer Science\" course as well. If you're little rusty with Python and need a quick refresher, you may want to check my **[CBSE Class XII Python tutorial](https://github.com/sundararajana/CBSE_XII_Python)**\n",
    "\n",
    "This Jupyter notebook is an attempt to connect relevant stuff so that a class XII student can attempt the fun of understanding FFT."
   ]
  },
  {
   "cell_type": "markdown",
   "id": "3d8281e1",
   "metadata": {},
   "source": [
    "## The problem of multiplying two polynomials\n",
    "\n",
    "\n",
    "Let us say we have two polynomials A(x) and Q(x).\n",
    "\n",
    "\n",
    "\\begin{gather*}\n",
    "A( x) \\ =\\ x^{2} \\ +\\ 3x\\ +\\ 2\\\\\n",
    "B( x) \\ =\\ 2x^{2} \\ +\\ 1\\\\\n",
    "\\end{gather*}\n",
    "\n",
    "How will you multiple A(x) and B(x)? You'd use distributive property and multiply the polynomials. Let's assume you've to multiply using a computer program. \n",
    "\n",
    "**Watch the video section \n",
    "[Polynomial Multiplication](https://www.youtube.com/watch?v=h7apO7q16V0&t=139s)**\n",
    "\n",
    "## Coefficient representation of polynomials\n",
    "\n",
    "Before multiplying polynonimals, we need to represent polynomials in computer. We just need to store coefficients  the polynomials. We represent a polynomial by storing its coefficients in a list. Coefficient at k'th index of the list is the coefficient of the k'th degree term."
   ]
  },
  {
   "cell_type": "code",
   "execution_count": 1,
   "id": "68709303",
   "metadata": {},
   "outputs": [],
   "source": [
    "# i'th element is the coefficient of i'th power of x\n",
    "\n",
    "# A(x) = 2 + 3x + 1x^2\n",
    "A = [2, 3, 1]\n",
    "\n",
    "# B(x) = 1 + 0x + 2x^2\n",
    "B = [1, 0, 2]\n",
    "\n",
    "# we want to print the polynomial in user friendly way.."
   ]
  },
  {
   "cell_type": "code",
   "execution_count": 2,
   "id": "c10ab728",
   "metadata": {},
   "outputs": [],
   "source": [
    "# returns a user friendly text representation of the given polynomial\n",
    "def poly_to_str(A):\n",
    "    s = \"\"\n",
    "    for i in range(len(A)):\n",
    "        # append the coefficient\n",
    "        s += str(A[i])\n",
    "        \n",
    "        # zero'th element is constant coefficient\n",
    "        # Avoid ugly x^0 for the constant \n",
    "        if i != 0:\n",
    "            if i == 1:\n",
    "                # avoid x^1. Simply use \"x\"\n",
    "                s += \"x\"\n",
    "            else:\n",
    "                s += \"x^\"\n",
    "                s += str(i)\n",
    "\n",
    "        # Terms are seperated by + except for the last term\n",
    "        if i != len(A) - 1:\n",
    "            s += \" + \"\n",
    "            \n",
    "    return s\n",
    "\n",
    "# prints a polynomial represented by coefficients\n",
    "def poly_print(A):\n",
    "    print(poly_to_str(A))"
   ]
  },
  {
   "cell_type": "code",
   "execution_count": 3,
   "id": "2c90e8b3",
   "metadata": {},
   "outputs": [
    {
     "name": "stdout",
     "output_type": "stream",
     "text": [
      "2 + 3x + 1x^2\n"
     ]
    }
   ],
   "source": [
    "poly_print(A)"
   ]
  },
  {
   "cell_type": "code",
   "execution_count": 4,
   "id": "e11e94d2",
   "metadata": {},
   "outputs": [
    {
     "name": "stdout",
     "output_type": "stream",
     "text": [
      "1 + 0x + 2x^2\n"
     ]
    }
   ],
   "source": [
    "poly_print(B)"
   ]
  },
  {
   "cell_type": "code",
   "execution_count": 5,
   "id": "620766cd",
   "metadata": {},
   "outputs": [],
   "source": [
    "# function to multiplying two polynomials given in coefficient representation\n",
    "\n",
    "def poly_multiply(A, B):\n",
    "    lenA = len(A)\n",
    "    lenB = len(B)\n",
    "    # result polynomial degree is sum of degrees of input polynomials\n",
    "    result = [0]*(lenA + lenB - 1)\n",
    "    \n",
    "    # We need to multiply every coefficient of polynomial A\n",
    "    # with every coefficient of polynomial B.\n",
    "    # If A and B are of degree \"d\", then the following nested\n",
    "    # for-loops result (d+1)^2 multiplications. Can we minimize\n",
    "    # the number of multiplications required?\n",
    "    # Note: This algorithm is set to be complexity O(d^2). \n",
    "    # More on 'complexity' in the next section. \n",
    "    \n",
    "    for i in range(lenA):\n",
    "        for j in range(lenB):\n",
    "            result[i + j] += A[i]*B[j];\n",
    "    \n",
    "    return result\n"
   ]
  },
  {
   "cell_type": "code",
   "execution_count": 6,
   "id": "f3705530",
   "metadata": {},
   "outputs": [
    {
     "name": "stdout",
     "output_type": "stream",
     "text": [
      "2 + 3x + 5x^2 + 6x^3 + 2x^4\n"
     ]
    }
   ],
   "source": [
    "p1 = [2, 3, 1]\n",
    "p2 = [1, 0, 2]\n",
    "\n",
    "poly_print(poly_multiply(p1, p2))"
   ]
  },
  {
   "cell_type": "markdown",
   "id": "521f7319",
   "metadata": {},
   "source": [
    "**Sanity check of our polynominal multiplication function using the numpy library's\n",
    "version of the polynomial multiplication function**\n",
    "\n",
    "**[numpy.polymul](https://numpy.org/doc/stable/reference/generated/numpy.polymul.html)**"
   ]
  },
  {
   "cell_type": "code",
   "execution_count": 7,
   "id": "d9dca4eb",
   "metadata": {},
   "outputs": [
    {
     "name": "stdout",
     "output_type": "stream",
     "text": [
      "2 + 3x + 5x^2 + 6x^3 + 2x^4\n"
     ]
    }
   ],
   "source": [
    "import numpy as np\n",
    "\n",
    "# numpy library represents polynomial as a sequence of polynomial coefficients,\n",
    "# from the highest to the lowest degree. So 0'th element should contain coefficient\n",
    "# of the highest degree. The last element should be the constant coefficient.\n",
    "# But our polynomial representation convention is the reverse. So we reverse our polynomial\n",
    "# representation before passing to numpy.polymul and also reverse the output from the\n",
    "# numpy.polymul for our convention\n",
    "\n",
    "p1 = [2, 3, 1]\n",
    "p2 = [1, 0, 2]\n",
    "\n",
    "p1_reversed = p1[::-1]\n",
    "p2_reversed = p2[::-1]\n",
    "p1_times_p2_reversed = np.polymul(p1_reversed, p2_reversed)\n",
    "p1_times_p2 = p1_times_p2_reversed[::-1]\n",
    "\n",
    "poly_print(p1_times_p2)"
   ]
  },
  {
   "cell_type": "markdown",
   "id": "a0c2d510",
   "metadata": {},
   "source": [
    "## Complexity and Big O Notation\n",
    "\n",
    "Often we're interested in this question: How efficient is an algorithm?\n",
    "\n",
    "In the polynomial multiplication algorithm above, we said the complexity is O(d^2)? What is this Big O notation?\n",
    "\n",
    "Watch the video **[What is Big O Notation?](https://www.youtube.com/watch?v=Q_1M2JaijjQ)** video by **\"[Reducible](https://www.youtube.com/c/Reducible)\"**\n",
    "\n",
    "From the video, you'd understand why a O(d.log(d)) is better than a O(d^2) algorithm. So... is there a O(d.log(d)) algorithm for polynomial multiplication? Before answering that, let us try another representation for polynomials:  **Value representation**\n"
   ]
  },
  {
   "cell_type": "code",
   "execution_count": 8,
   "id": "02ac4101",
   "metadata": {},
   "outputs": [
    {
     "name": "stdout",
     "output_type": "stream",
     "text": [
      "The value of 2 + 3x + 1x^2  at x = 2 is 12\n",
      "The value of 2 + 3x + 1x^2  at x = 42 is 1892\n",
      "The value of 2 + 3x + 1x^2  at x = 3.141596 is 21.294413427216\n"
     ]
    }
   ],
   "source": [
    "# straightforward implementation of evaluating a polynominal\n",
    "# at a given x value. Polynomial is specified in the coefficient\n",
    "# representation\n",
    "def poly_evaluate(poly, x):\n",
    "    n = len(poly)\n",
    "  \n",
    "    value = 0  \n",
    "    for i in range(n):\n",
    "        coeff = poly[i]\n",
    "        value += coeff * (x**i)\n",
    "    \n",
    "    return value\n",
    "\n",
    "p1 = [2, 3, 1]\n",
    "print(\"The value of\", poly_to_str(p1), \" at x = 2 is\", poly_evaluate(p1, 2))\n",
    "print(\"The value of\", poly_to_str(p1), \" at x = 42 is\", poly_evaluate(p1, 42))\n",
    "print(\"The value of\", poly_to_str(p1), \" at x = 3.141596 is\", poly_evaluate(p1, 3.141596))"
   ]
  },
  {
   "cell_type": "markdown",
   "id": "e9037499",
   "metadata": {},
   "source": [
    "**Sanity check of our polynominal evaluation function using the numpy library's\n",
    "version of the polynomial evaluate function**\n",
    "\n",
    "**[numpy.polyval](https://numpy.org/doc/stable/reference/generated/numpy.polyval.html)**"
   ]
  },
  {
   "cell_type": "code",
   "execution_count": 9,
   "id": "bc23a850",
   "metadata": {},
   "outputs": [
    {
     "name": "stdout",
     "output_type": "stream",
     "text": [
      "The value of 2 + 3x + 1x^2  at x = 2 is 12\n",
      "The value of 2 + 3x + 1x^2  at x = 2 is 1892\n",
      "The value of 2 + 3x + 1x^2  at x = 3.141596 is 21.294413427216\n"
     ]
    }
   ],
   "source": [
    "import numpy as np\n",
    "\n",
    "# numpy library represents polynomial as a sequence of polynomial coefficients,\n",
    "# from the highest to the lowest degree. So we've to reverse our list!\n",
    "\n",
    "p1 = [2, 3, 1]\n",
    "\n",
    "print(\"The value of\", poly_to_str(p1), \" at x = 2 is\", np.polyval(p1[::-1], 2))\n",
    "print(\"The value of\", poly_to_str(p1), \" at x = 2 is\", np.polyval(p1[::-1], 42))\n",
    "print(\"The value of\", poly_to_str(p1), \" at x = 3.141596 is\", np.polyval(p1[::-1], 3.141596))"
   ]
  },
  {
   "cell_type": "markdown",
   "id": "d0b7404d",
   "metadata": {},
   "source": [
    "## Point-Value or Value representation of polynomials\n",
    "\n",
    "A straight line can be representated by two coefficients - constant coefficient and coefficient of \"x\". But a straight line can also representated by two points \n",
    "\n",
    "\\begin{gather*}\n",
    "( x_{0} ,\\ y_{0}) \\ ,\\ ( x_{1} ,\\ y_{1})\\\\\n",
    "\\end{gather*} \n",
    "\n",
    "on it. Two points uniquely determine a straight line. And this is true of any n'th degree polynomial.\n",
    "A n'th degree polynomial is uniquely determined by (n+1) unique points on it.\n",
    "\n",
    "Let's prove this theorem..\n",
    "\n",
    "### Identity Theorem\n",
    "\n",
    "A polynomial f(x) of degree n is identically equal to zero if it vanishes for n+1 (or more) distinct points.\n",
    "In other words a polynomial of degree n can have atmost n distinct zeros. If there are more zeros, then the polynomial itself should be zero.\n",
    "\n",
    "**Proof:**\n",
    "\n",
    "\\begin{gather*}\n",
    "Let\\ \\alpha _{1} ,\\ \\alpha _{2} ,\\ \\alpha _{3} ,\\ ...\\ \\alpha _{n} \\ be\\ distinct\\ roots\\ of\\ the\\ polynomial\\ f( x) .\\ Then\\ we\\ have\\\\\n",
    "\\\\\n",
    "f( x) \\ =\\ a( x\\ -\\ \\alpha _{1})( x\\ -\\ \\alpha _{2}) ...\\ ( x-\\ \\alpha _{n})\\\\\n",
    "\\\\\n",
    "if\\ f( x) \\ is\\ zero\\ at\\ x\\ =\\ \\alpha _{n+1} \\ as\\ well,\\ then\\ we've\\\\\n",
    "\\\\\n",
    "f( \\alpha _{n+1}) \\ =\\ a( \\alpha _{n+1} \\ -\\ \\alpha _{1})( \\alpha _{n+1} \\ -\\ \\alpha _{2}) ...\\ ( \\alpha _{n+1} \\ -\\ \\alpha _{n}) \\ =\\ 0\\\\\n",
    "\\\\\n",
    "But\\ \\alpha _{n+1} \\ is\\ distinct\\ from\\ each\\ of\\ the\\ \\alpha _{1} ,\\ \\alpha _{2} ,\\ \\alpha _{3} ,\\ ...\\ \\alpha _{n} .\\ So\\ the\\ only\\\\\n",
    "way\\ above\\ can\\ be\\ zero\\ is\\ \\ a=\\ 0\\ \\Longrightarrow \\ f( x) \\ =\\ 0\\\\\n",
    "\\end{gather*}\n",
    "\n",
    "\n",
    "----------------\n",
    "\n",
    "### A unique polynomial of degree n or less passes through n+1 points\n",
    "\n",
    "**Proof:**\n",
    "\n",
    "\\begin{gather*}\n",
    "If\\ the\\ polynominal\\ is\\ not\\ unique,\\ then\\ there\\ are\\ at\\ least\\ two\\ polynomials\\\\\n",
    "A( x) \\ and\\ B( x) \\ of\\ degree\\ n\\ or\\ less\\ that\\ pass\\ through\\ ( n+1) \\ distinct\\ points.\\\\\n",
    "\\\\\n",
    "Let's\\ assume\\ A( x) \\ and\\ B( x) \\ pass\\ through\\ ( n+1) \\ distinct\\ points\\\\\n",
    "\\\\\n",
    "( x_{0} ,\\ y_{0}) ,\\ ( x_{1} ,\\ y_{1}) ,\\ ( x_{2} ,\\ y_{2}) ....\\ ( x_{n} ,\\ y_{n})\\\\\n",
    "\\\\\n",
    "Now\\ let's\\ define\\ a\\ new\\ polynomial\\ C( x)\\\\\n",
    "\\\\\n",
    "C( x) \\ =\\ A( x) \\ -\\ B( x) \\ \\ ...\\ ( 1)\\\\\n",
    "\\\\\n",
    "clearly\\ C( x) \\ is\\ of\\ degree\\ same\\ as\\ A( x) \\ and\\ B( x) \\ or\\ less\\\\\n",
    "\\\\\n",
    "Since\\ A( x) \\ and\\ B( x) \\ pass\\ through\\ ( n+1) \\ data\\ points,\\\\\n",
    "\\\\\n",
    "A( x_{i}) \\ =\\ B( x_{i}) \\ \\forall \\ i\\ =\\ 0\\ to\\ n\\\\\n",
    "\\\\\n",
    "From\\ ( 1) \\ we\\ have\\\\\n",
    "\\\\\n",
    "C( x_{i}) \\ =\\ A( x_{i}) \\ -\\ B( x_{i}) \\ \\forall \\ i\\ =\\ 0\\ to\\ n\\ \\\\\n",
    "\\\\\n",
    "\\therefore \\ C( x_{i}) \\ =\\ 0\\ \\forall \\ i\\ =\\ 0\\ to\\ n\\\\\n",
    "\\\\\n",
    "\\therefore \\ C( x) \\ is\\ of\\ degree\\ n\\ but\\ has\\ ( n+1) \\ zeros.\\ A\\ polynomial\\\\\n",
    "of\\ degree\\ n\\ can\\ have\\ ( n+1) \\ zeros\\ only\\ if\\ it\\ is\\ identical\\ to\\ zero!\\\\\n",
    "\\\\\n",
    "\\therefore \\ C( x) \\ =\\ 0\\\\\n",
    "\\\\\n",
    "From\\ ( 1) ,\\ we\\ have\\\\\n",
    "\\\\\n",
    "A( x) \\ -\\ B( x) \\ =\\ 0\\ \\Longrightarrow \\ A( x) \\ =\\ B( x)\\\\\n",
    "\\\\\n",
    "So\\ the\\ polynomials\\ A( x) \\ and\\ B( x) \\ are\\ same!\\\\\n",
    "\\end{gather*}\n",
    "\n",
    "### d+1 points uniquely determine a d'th degree polynomial.\n",
    "\n",
    "\n",
    "\n",
    "### Summary\n",
    "\n",
    "**A d'th degree polynomial can be represented by (d+1) coefficients (coefficient representation) or (d+1) points on it (value representation).**\n",
    "\n",
    "**Watch the video section [Polynomial Representation](https://www.youtube.com/watch?v=h7apO7q16V0&t=216s)**"
   ]
  },
  {
   "cell_type": "code",
   "execution_count": 10,
   "id": "e86a178d",
   "metadata": {},
   "outputs": [
    {
     "name": "stdout",
     "output_type": "stream",
     "text": [
      "Value representation of p1(x) is [0, 2, 6]\n"
     ]
    }
   ],
   "source": [
    "# Value representation example\n",
    "\n",
    "# Polynomial in coefficient representation\n",
    "\n",
    "# p1(x) = 2 + 3x + 1x^2\n",
    "p1 = [2, 3, 1]\n",
    "\n",
    "# This is a polynomial of degree two. So, we need 3 points (n+1 = 3 for n = 2) on it\n",
    "# Let's evaluate the polynomial at three distinct x coordinates x = -1, x = 0, x = 1 \n",
    "\n",
    "x = poly_evaluate(p1, -1)\n",
    "y = poly_evaluate(p1, 0)\n",
    "z = poly_evaluate(p1, 1)\n",
    "\n",
    "# Note that we do not store the x coordinates in the value representation.\n",
    "# The specific x coordinates we choose are implicitly assumed.\n",
    "\n",
    "# So the same polynomial p1 in value representation could be [x, y, z]\n",
    "print(\"Value representation of p1(x) is\", [x, y, z])"
   ]
  },
  {
   "cell_type": "markdown",
   "id": "c44fc5f3",
   "metadata": {},
   "source": [
    "## Why Value Representation is good for Polynomial Multiplication?\n",
    "\n",
    "If we have two polynomials A(x) and B(x) of degree d, then the product C(x) = A(x) * B(x) is of degree 2d. If we're given (2d+1) points of C(x), we can uniquely determine it.\n",
    "\n",
    "If A(x) and B(x) are represented by value representation at 2d+1 points, then can compute C(x) in value representation by multiplying the corresponding 2d+1 values of A(x) and B(x)!\n",
    "\n",
    "**Watch the video section [Value Representation Advantages](https://www.youtube.com/watch?v=h7apO7q16V0&t=366s)**\n",
    "\n"
   ]
  },
  {
   "cell_type": "code",
   "execution_count": 11,
   "id": "9ef5e2ba",
   "metadata": {},
   "outputs": [
    {
     "name": "stdout",
     "output_type": "stream",
     "text": [
      "A(x) = 1 + 2x + 1x^2\n",
      "B(x) = 1 + -2x + 1x^2\n",
      "C(x) = A(x)*B(x) = 1 + 0x + -2x^2 + 0x^3 + 1x^4\n",
      "Value representation of A(x) = [1, 0, 1, 4, 9]\n",
      "Value representation of B(x) = [9, 4, 1, 0, 1]\n",
      "Value representation of C(x) = [9, 0, 1, 0, 9]\n"
     ]
    }
   ],
   "source": [
    "# A(x) = 1 + 2x + x^2\n",
    "A = [1, 2, 1]\n",
    "print(\"A(x) =\", poly_to_str(A))\n",
    "\n",
    "# B(x) = 1 - 2x + x^2\n",
    "B = [1, -2, 1]\n",
    "print(\"B(x) =\", poly_to_str(B))\n",
    "\n",
    "print(\"C(x) = A(x)*B(x) =\", poly_to_str(poly_multiply(A, B)))\n",
    "\n",
    "# Since A(x) and B(x) are of degree 2, the product A(x)*B(x)\n",
    "# has the degree 4. Value representation of product polynomial\n",
    "# requires 4 + 1 = 5 values.\n",
    "\n",
    "# Value representation of above polynomials with 5 values taken \n",
    "# at the (randomly chosen) x values -2, -1, 0, 1, 2\n",
    "\n",
    "x_values = [-2, -1, 0, 1, 2]\n",
    "\n",
    "A_value = [ poly_evaluate(A, x) for x in x_values ]\n",
    "print(\"Value representation of A(x) =\", A_value)\n",
    "\n",
    "B_value = [ poly_evaluate(B, x) for x in x_values ]\n",
    "print(\"Value representation of B(x) =\", B_value)\n",
    "\n",
    "# Value representation of product polynormial C(x) is just\n",
    "# the elementwise product the A_value and B_value lists \n",
    "C_value = [ A_value[i]*B_value[i] for i in range(len(A_value))]\n",
    "\n",
    "print(\"Value representation of C(x) =\", C_value)\n"
   ]
  },
  {
   "cell_type": "markdown",
   "id": "2ed212b3",
   "metadata": {},
   "source": [
    "## Fast multiplication of polynomials in coefficient form\n",
    "\n",
    "Recall that our straightforward polynomial multiplication  is of complexity O(d^2) (when polynomials are represented in coefficient representation).\n",
    "\n",
    "We just saw multiplication of polynomials of degree d each requires just 2d+1 multiplications - if the polynomials are expressed in value representation. This is of complexity only O(d). Can we use this fact to multiply polynomials expressed in coefficient representation efficiently? If we can convert between coefficient and value representations efficiently, then we can do something like this:\n",
    "\n",
    "![Fast multiplication of polynomials flowchart](flowchart.png)\n",
    "\n",
    "\n",
    "----------------\n",
    "\n",
    "**Watch the video section [Polynomial Multiplication Flowchart](https://www.youtube.com/watch?v=h7apO7q16V0&t=427s)**\n",
    "\n",
    "\n",
    "### Evaluation\n",
    "\n",
    "Coefficient representation to value representation conversion is called \"Evaluation\"\n",
    "\n",
    "### Interpolation\n",
    "\n",
    "Value representation to coefficient representation conversion is called \"Interpolation\"\n"
   ]
  },
  {
   "cell_type": "markdown",
   "id": "9ec42b83",
   "metadata": {},
   "source": [
    "## Coefficient to Value representation conversion\n",
    "\n",
    "### Vandermonde Matrix\n",
    "\n",
    "\n",
    "\\begin{gather*}\n",
    "Let\\ P( x) \\ by\\ a\\ polynomial\\ of\\ degree\\ n\\\\\n",
    "\\\\\n",
    "P( x) \\ =\\ p_{0} \\ +\\ p_{1} x\\ +\\ p_{2} x^{2} \\ +\\ ...\\ +\\ p_{n} x^{n}\\\\\n",
    "\\\\\n",
    "To\\ evaluate\\ P( x) \\ at\\ ( n\\ +1) \\ points\\ with\\ x\\ =\\ x_{0} ,\\ x_{1} ,\\ x_{2} ,\\ ...,\\ x_{n}\\\\\n",
    "we\\ have\\ to\\ do\\ the\\ following:\\\\\n",
    "\\\\\n",
    "P( x_{0}) \\ =\\ p_{0} \\ +p_{1} .x_{0} \\ +\\ p_{2} .x_{0}^{2} \\ +\\ ...\\ +\\ p_{n} .x_{0}^{n} \\ \\\\\n",
    "\\\\\n",
    "P( x_{1}) \\ =\\ p_{0} \\ +p_{1} .x_{1} \\ +\\ p_{2} .x_{1}^{2} \\ +\\ ...\\ +\\ p_{n} .x_{1}^{n} \\ \\\\\n",
    "\\\\\n",
    "P( x_{2}) \\ =\\ p_{0} \\ +p_{1} .x_{2} \\ +\\ p_{2} .x_{2}^{2} \\ +\\ ...\\ +\\ p_{n} .x_{2}^{n} \\ \\\\\n",
    "....\\\\\n",
    "....\\\\\n",
    "\\\\\n",
    "P( x_{n}) \\ =\\ p_{0} \\ +p_{1} .x_{n} \\ +\\ p_{2} .x_{n}^{2} \\ +\\ ...\\ +\\ p_{n} .x_{n}^{n} \\ \\\\\n",
    "\\\\\n",
    "The\\ above\\ is\\ of\\ complexity\\ O\\left( n^{2}\\right)\\\\\n",
    "\\\\\n",
    "The\\ above\\ linear\\ equations\\ can\\ be\\ compactly\\ written\\ as\\\\\n",
    "\\\\\n",
    "\\begin{pmatrix}\n",
    "P( x_{0})\\\\\n",
    "P( x_{1})\\\\\n",
    "..\\\\\n",
    "P( x_{n})\n",
    "\\end{pmatrix} \\ =\\begin{pmatrix}\n",
    "1 & x_{0} & x_{0}^{2} & .. & x_{0}^{n}\\\\\n",
    "1 & x_{1} & x_{1}^{2} & .. & x_{1}^{n}\\\\\n",
    "... & ... & ... & .. & ...\\\\\n",
    "1 & x_{_{n}} & x_{n}^{2} & .. & x_{n}^{n}\n",
    "\\end{pmatrix} \\ \\begin{pmatrix}\n",
    "p_{0}\\\\\n",
    "p_{1}\\\\\n",
    "..\\\\\n",
    "p_{n}\n",
    "\\end{pmatrix}\\\\\n",
    "\\\\\n",
    "\\\\\n",
    "Matrix\\ of\\ this\\ form\\\\\n",
    "\\\\\n",
    "\\begin{pmatrix}\n",
    "1 & x_{0} & x_{0}^{2} & .. & x_{0}^{n}\\\\\n",
    "1 & x_{1} & x_{1}^{2} & .. & x_{1}^{n}\\\\\n",
    "... & ... & ... & .. & ...\\\\\n",
    "1 & x_{_{n}} & x_{n}^{2} & .. & x_{n}^{n}\n",
    "\\end{pmatrix}\\\\\n",
    "\\\\\n",
    "\\ is\\ called\\ \\mathbf{Vandermonde\\ Matrix}\\\\\n",
    "\\\\\n",
    "Properties\\ of\\ Vandermonde\\ Matrix\\\\\n",
    "\\\\\n",
    "*\\ The\\ determinant\\ is\\ Vandermonde\\ Matrix\\ is\\ of\\ the\\ form\\\\\n",
    "\\\\\n",
    "\\prod _{0\\ \\leqslant \\ i\\ < \\ j\\ \\leqslant \\ n}( x_{j} \\ -\\ x_{i})\\\\\n",
    "\\\\\n",
    "*\\ The\\ determinant\\ of\\ Vandemonde\\ is\\ non-zero\\\\\n",
    "if\\ x_{0} ,\\ x_{1} ,\\ x_{2} ,\\ ...,\\ x_{n} \\ are\\ all\\ different.\\ It\\ is\\ zero\\\\\n",
    "if\\ two\\ or\\ more\\ of\\ x_{0} ,\\ x_{1} ,\\ x_{2} ,\\ ...,\\ x_{n} \\ are\\ equal\\\\\n",
    "\\\\\n",
    "*\\ Vandermonde\\ matrices\\ are\\ invertible\\ \\\\\n",
    "x_{0} ,\\ x_{1} ,\\ x_{2} ,\\ ...,\\ x_{n} \\ are\\ all\\ different\\\\\n",
    "\\\\\n",
    "\\end{gather*}\n",
    "\n",
    "###  Proof of Determinant of Vandermonde Matrix of order 3\n",
    "\n",
    "\\begin{gather*}\n",
    "Let's\\ compute\\ the\\ determinant\\ for\\ a\\ 3x3\\ Vandermonde\\ Matrix\\\\\n",
    "\\\\\n",
    "A\\ =\\ \\begin{pmatrix}\n",
    "1 & a & a^{2}\\\\\n",
    "1 & b & b^{2}\\\\\n",
    "1 & c & c^{2}\n",
    "\\end{pmatrix}\\\\\n",
    "\\\\\n",
    "\\det( A) \\ =\\ \\det\\begin{pmatrix}\n",
    "1 & a & a^{2}\\\\\n",
    "1 & b & b^{2}\\\\\n",
    "1 & c & c^{2}\n",
    "\\end{pmatrix} \\ =\\det \\ \\begin{pmatrix}\n",
    "1 & a & a^{2}\\\\\n",
    "0 & b\\ -a & b^{2} -a^{2}\\\\\n",
    "1 & c & c^{2}\n",
    "\\end{pmatrix} \\ \\ \\left( R_{2} \\ \\rightarrow \\ R_{2} \\ -\\ R_{1}\\right)\\\\\n",
    "\\\\\n",
    "\\det( A) =\\ det\\ \\begin{pmatrix}\n",
    "1 & a & a^{2}\\\\\n",
    "0 & b\\ -a & b^{2} -a^{2}\\\\\n",
    "0 & c-a & c^{2} -a^{2}\n",
    "\\end{pmatrix} \\ \\left( R_{3} \\ \\rightarrow \\ R_{3} \\ -\\ R_{1}\\right)\\\\\n",
    "\\\\\n",
    "\\det( A) =\\ ( b-a)\\det \\ \\begin{pmatrix}\n",
    "1 & a & a^{2}\\\\\n",
    "0 & 1 & b+a\\\\\n",
    "0 & c-a & c^{2} -a^{2}\n",
    "\\end{pmatrix} \\ \\\\\n",
    "\\\\\n",
    "\\det( A) \\ =\\ ( b-a) \\ \\det \\ \\begin{pmatrix}\n",
    "1 & a & a^{2}\\\\\n",
    "0 & 1 & b+a\\\\\n",
    "0 & 0 & c^{2} -a^{2} \\ -\\ ( c-a)( b+a)\n",
    "\\end{pmatrix} \\ \\left( R_{3} \\ \\rightarrow \\ R_{3} \\ -\\ ( c-a) R_{2}\\right)\\\\\n",
    "\\\\\n",
    "\\det( A) \\ =\\ ( b-a) \\ \\det\\begin{pmatrix}\n",
    "1 & a & a^{2}\\\\\n",
    "0 & 1 & b+a\\\\\n",
    "0 & 0 & ( c-a) \\ (( c+a) \\ -\\ ( b+a))\n",
    "\\end{pmatrix}\\\\\n",
    "\\\\\n",
    "\\det( A) =\\ ( b-a) \\ \\det \\ \\begin{pmatrix}\n",
    "1 & a & a^{2}\\\\\n",
    "0 & 1 & b+a\\\\\n",
    "0 & 0 & ( c-a) \\ ( c-b)\n",
    "\\end{pmatrix}\\\\\n",
    "\\\\\n",
    "\\det( A) \\ =\\ ( b-a)( c-a)( c-b) \\ \\det\\begin{pmatrix}\n",
    "1 & a & a^{2}\\\\\n",
    "0 & 1 & b+a\\\\\n",
    "0 & 0 & 1\n",
    "\\end{pmatrix}\\\\\n",
    "\\\\\n",
    "Determinant\\ of\\ upper\\ triangular\\ matrix\\ is\\ product\\ of\\ diagonal\\ elements\\\\\n",
    "\\\\\n",
    "\\therefore \\ \\det( A) \\ =\\ ( b-a)( c-a)( c-b)\n",
    "\\end{gather*}\n",
    "\n",
    "### We need efficient converion between coefficient and value representations\n",
    "\n",
    "Converting coefficient representation to value representation by above method is of complexity O(d^2) where d is the degree of the polynomial. So we need an efficient way to convert between coefficient and value representation (Faster \"Evaluation\" and \"Interpolation\"). **This is possible if we use  x coordinates for value-representation to be complex numbers. In particular, if we use the complex roots of unity. That leads us to the next topic: Complex Numbers!**"
   ]
  },
  {
   "cell_type": "markdown",
   "id": "6fd54f78",
   "metadata": {},
   "source": [
    "## If your complex number knowledge is bit rusty...\n",
    "\n",
    "You may want to watch **the first four vidoes** from the play list  **[Analysis of a Complex Kind](https://www.youtube.com/watch?v=CVpMpZpd-5s&list=PLi7yHjesblV0sSfZzWdSUXGO683n_nJdQ)** by **[Petra Bonfert-Taylor](https://www.youtube.com/channel/UCaTLkDn9_1Wy5TRYfVULYUw)**\n",
    "\n",
    "**you do *not* need the rest of the videos to understand FFT**\n",
    "\n",
    "In the first video, you can skip to beginning of the history of complex numbers:\n",
    "\n",
    "1. **[Complex number history](https://youtu.be/CVpMpZpd-5s?list=PLi7yHjesblV0sSfZzWdSUXGO683n_nJdQ&t=298)**\n",
    "2. **[Algebra and Geometry in the complex plane](https://www.youtube.com/watch?v=KeRHQ7j4JCQ&list=PLi7yHjesblV0sSfZzWdSUXGO683n_nJdQ&index=2)**\n",
    "3. **[Polar Representation of Complex Numbers](https://www.youtube.com/watch?v=Gs9PCYiL1BE&list=PLi7yHjesblV0sSfZzWdSUXGO683n_nJdQ&index=3)**\n",
    "4. **[Roots of Complex Numbers](https://www.youtube.com/watch?v=yI2NeikrxoU&list=PLi7yHjesblV0sSfZzWdSUXGO683n_nJdQ&index=4)**\n"
   ]
  },
  {
   "cell_type": "markdown",
   "id": "35b61c6a",
   "metadata": {},
   "source": [
    "## Complex numbers in Python. \n",
    "\n",
    "### Python uses \"j\" for sqrt(-1) much like Electrical engineers do!"
   ]
  },
  {
   "cell_type": "code",
   "execution_count": 12,
   "id": "46e7df5a",
   "metadata": {},
   "outputs": [
    {
     "name": "stdout",
     "output_type": "stream",
     "text": [
      "(2+3j) 1j (-3+2j) (3-2j) (-5+12j) (2-3j)\n"
     ]
    }
   ],
   "source": [
    "# writing complex number in Python\n",
    "a = 2 + 3j\n",
    "\n",
    "# can't simply use \"j\". Say 1j\n",
    "b = 1j\n",
    "\n",
    "# usual arithmetic operators work for complex numbers\n",
    "print(a, b, a*b, a/b, a**2, a.conjugate())"
   ]
  },
  {
   "cell_type": "code",
   "execution_count": 13,
   "id": "15c0b014",
   "metadata": {},
   "outputs": [
    {
     "name": "stdout",
     "output_type": "stream",
     "text": [
      "(-1+1.2246467991473532e-16j)\n"
     ]
    }
   ],
   "source": [
    "# cmath library to call functions on complex numbers\n",
    "\n",
    "import cmath\n",
    "\n",
    "# let's print e^(pi*i). Should be close to -1\n",
    "# Why is this not exactly equal to -1 ?\n",
    "\n",
    "print(cmath.exp(cmath.pi*1j))"
   ]
  },
  {
   "cell_type": "markdown",
   "id": "f82a0164",
   "metadata": {},
   "source": [
    "## Why Roots of Unity as evaluation points?\n",
    "\n",
    "**Watch the following video sections**:\n",
    "    \n",
    "1. **[Which Evaluation Points?](https://www.youtube.com/watch?v=h7apO7q16V0&t=829s)**\n",
    "2. **[Why Nth Roots of Unity?](https://www.youtube.com/watch?v=h7apO7q16V0&t=990s)**"
   ]
  },
  {
   "cell_type": "markdown",
   "id": "0093fecb",
   "metadata": {},
   "source": [
    "## FFT algorithm is an efficient way to convert coefficient representation to value representation\n",
    "\n",
    "The following code is more or less straight port of the FFT function in the video\n",
    "\n",
    "**Watch the video section [FFT Implementation](https://www.youtube.com/watch?v=h7apO7q16V0&t=1108s)**\n",
    "\n",
    "![fft code from the video](fft.png)"
   ]
  },
  {
   "cell_type": "code",
   "execution_count": 14,
   "id": "14033fde",
   "metadata": {},
   "outputs": [],
   "source": [
    "# We need 2*pi*i often\n",
    "\n",
    "two_pi_i = 2*cmath.pi*(1j)"
   ]
  },
  {
   "cell_type": "code",
   "execution_count": 15,
   "id": "24b29abb",
   "metadata": {},
   "outputs": [],
   "source": [
    "def FFT(poly):\n",
    "    n = len(poly)\n",
    "    if n == 1:\n",
    "        return poly\n",
    "\n",
    "    poly_even = poly[0::2]\n",
    "    poly_odd = poly[1::2]\n",
    "    y_even = FFT(poly_even)\n",
    "    y_odd = FFT(poly_odd)\n",
    "\n",
    "    y = [0]*n\n",
    "    omega = cmath.exp(two_pi_i / n)\n",
    "    \n",
    "    # What is this n // 2 ? This is \"floor division\" operator\n",
    "    # n // 2 evaluates to integer unlike n / 2 which evaluates to float.\n",
    "    \n",
    "    for j in range(n//2):\n",
    "        omega_pow_j = omega ** j\n",
    "        y[j] = y_even[j] + omega_pow_j * y_odd[j]\n",
    "        y[j + n//2] = y_even[j] - omega_pow_j * y_odd[j]\n",
    "    return y"
   ]
  },
  {
   "cell_type": "markdown",
   "id": "c758ed38",
   "metadata": {},
   "source": [
    "## FFT Example: Unraveling the Recursion\n",
    "\n",
    "**Watch this \"FFT example\" video to understand the above recursive FFT function better:**\n",
    "\n",
    "**[FFT Example: Unraveling the Recursion](https://www.youtube.com/watch?v=Ty0JcR6Dvis)**"
   ]
  },
  {
   "cell_type": "markdown",
   "id": "2b7216e2",
   "metadata": {},
   "source": [
    "## Let's visualize recursion using Python library recviz\n",
    "\n",
    "We can use \"recviz\" library to visualize any Python recursive code. Let's use that to visualize our FFT function.\n",
    "\n",
    "**See also [https://arpitbhayani.me/blogs/recursion-visualizer](https://arpitbhayani.me/blogs/recursion-visualizer)**"
   ]
  },
  {
   "cell_type": "code",
   "execution_count": 16,
   "id": "39603d88",
   "metadata": {},
   "outputs": [],
   "source": [
    "# install recviz\n",
    "\n",
    "!pip install -q recviz"
   ]
  },
  {
   "cell_type": "code",
   "execution_count": 17,
   "id": "5a9817fd",
   "metadata": {},
   "outputs": [
    {
     "name": "stdout",
     "output_type": "stream",
     "text": [
      " -> Visual_FFT([5, 3, 2, 1])\n",
      "       even = [5, 2]\n",
      "       odd = [3, 1]\n",
      "    -> Visual_FFT([5, 2])\n",
      "       even = [5]\n",
      "       odd = [2]\n",
      "       -> Visual_FFT([5])\n",
      "       <- [5]\n",
      "       -> Visual_FFT([2])\n",
      "       <- [2]\n",
      "       j =  0\n",
      "       omega_pow_j (1+0j)\n",
      "       y[ 0 ] =  (7+0j)\n",
      "       y[ 1 ] =  (3+0j)\n",
      "    <- [(7+0j), (3+0j)]\n",
      "    -> Visual_FFT([3, 1])\n",
      "       even = [3]\n",
      "       odd = [1]\n",
      "       -> Visual_FFT([3])\n",
      "       <- [3]\n",
      "       -> Visual_FFT([1])\n",
      "       <- [1]\n",
      "       j =  0\n",
      "       omega_pow_j (1+0j)\n",
      "       y[ 0 ] =  (4+0j)\n",
      "       y[ 1 ] =  (2+0j)\n",
      "    <- [(4+0j), (2+0j)]\n",
      "       j =  0\n",
      "       omega_pow_j (1+0j)\n",
      "       y[ 0 ] =  (11+0j)\n",
      "       y[ 2 ] =  (3+0j)\n",
      "       j =  1\n",
      "       omega_pow_j (6.123233995736766e-17+1j)\n",
      "       y[ 1 ] =  (3+2j)\n",
      "       y[ 3 ] =  (3-2j)\n",
      " <- [(11+0j), (3+2j), (3+0j), (3-2j)]\n"
     ]
    },
    {
     "data": {
      "text/plain": [
       "[(11+0j), (3+2j), (3+0j), (3-2j)]"
      ]
     },
     "execution_count": 17,
     "metadata": {},
     "output_type": "execute_result"
    }
   ],
   "source": [
    "from recviz import recviz\n",
    "\n",
    "# decorate Visual_FFT function so that it prints recursion call & return info\n",
    "@recviz\n",
    "def Visual_FFT(poly):\n",
    "    n = len(poly)\n",
    "    if n == 1:\n",
    "        return poly\n",
    "\n",
    "    poly_even = poly[::2]\n",
    "    poly_odd = poly[1::2]\n",
    "    \n",
    "    print(\"       even =\", poly_even)\n",
    "    print(\"       odd =\", poly_odd)\n",
    "\n",
    "    y_even = Visual_FFT(poly_even)\n",
    "    y_odd = Visual_FFT(poly_odd)\n",
    "\n",
    "    y = [0]*n\n",
    "    omega = cmath.exp(two_pi_i / n)\n",
    "    for j in range(n//2):\n",
    "        # print additional info for visualization\n",
    "\n",
    "        print(\"       j = \", j)\n",
    "        omega_pow_j = omega ** j\n",
    "        \n",
    "        print(\"       omega_pow_j\", omega_pow_j)\n",
    "\n",
    "        y[j] = y_even[j] + omega_pow_j * y_odd[j]\n",
    "        print(\"       y[\", j, \"] = \", y[j])\n",
    "        \n",
    "        y[j + n//2] = y_even[j] - omega_pow_j * y_odd[j]\n",
    "        print(\"       y[\", j + n//2, \"] = \", y[j + n//2])\n",
    "\n",
    "    return y\n",
    "\n",
    "# Let's visualize the same example used in the above video\n",
    "Visual_FFT([5, 3, 2, 1])"
   ]
  },
  {
   "cell_type": "markdown",
   "id": "f9def919",
   "metadata": {},
   "source": [
    "## Conversion from value representation to coefficient representation\n",
    "\n",
    "We saw that by using complex roots of unity as evaluation points, we can efficiently convert from coefficient representation to value representation. How about the reverse conversion - value representation to coefficient representation?\n",
    "\n",
    "We saw that the coefficient to value representation conversion is basically efficient multiplication of coefficient vector by a Vandermonde matrix (containing roots of unity). The value to coefficient conversion is multiplying value representation vector by the inverse of that Vandermonde matrix. When roots of unity are used as value points, the inverse of Vandermonde matrix is another Vandermonde matrix - except for slightly modified roots of unity! So the same FFT algorithm can be adjusted slightly for Inverse FFT (IFFT). The IFFT algorithm converts from value presentation to coefficient presentation.\n",
    "\n",
    "### Proof\n",
    "\n",
    "Inverse of a Vandermonde matrix of roots of unity has a particularly simple form. \n",
    "\n",
    "**Watch the video [Inverse of Vandermonde at Roots of Unity](https://www.youtube.com/watch?v=jaEVeM9WVjY) by\n",
    "[Udacity](https://www.youtube.com/channel/UCBVCi5JbYmfG3q5MEuoWdOw)**\n",
    "\n"
   ]
  },
  {
   "cell_type": "markdown",
   "id": "c0cf5479",
   "metadata": {},
   "source": [
    "## Inverse FFT (IFFT) algorithm is a fast way to convert value representation to coefficient representation\n",
    "\n",
    "The following code is more or less straight port of IFFT function from the video\n",
    "\n",
    " .. except for the bugfix mentioned in the comment section of the video (by the author)\n",
    "\n",
    "\n",
    "**\"Also a subtle mistake that a commenter made me aware of -- at 26:40 instead of replacing w with (1/n * e^{-2 * pi i/ n}), the actual right way to do this is by taking the final output of the IFFT at the end of the recursion and dividing by n. Sorry about that error, and in general all bugs like this one will be updated in the description of the video.\"**\n",
    "\n",
    "**\"So the full change is w = e^{-2 pi i / n} \n",
    "And then somewhere outside the scope of the IFFT function ifft_result = 1/n * IFFT(&lt;values&gt;)\"**\n",
    "\n",
    "**See the video section [ Interpolation and Inverse FFT](https://www.youtube.com/watch?v=h7apO7q16V0&t=1367s)**\n",
    "\n",
    "![IFFT function code](ifft.png)"
   ]
  },
  {
   "cell_type": "code",
   "execution_count": 18,
   "id": "11f4056b",
   "metadata": {},
   "outputs": [],
   "source": [
    "def IFFT(poly):\n",
    "    # ifft_helper produces non-normalized version of inverse FFT\n",
    "    def ifft_helper(poly):\n",
    "        n = len(poly)\n",
    "        if n == 1:\n",
    "            return poly\n",
    "        \n",
    "        poly_even = poly[::2]\n",
    "        poly_odd = poly[1::2]\n",
    "        y_even = ifft_helper(poly_even)\n",
    "        y_odd = ifft_helper(poly_odd)\n",
    "\n",
    "        y = [0]*n\n",
    "        omega = cmath.exp(-two_pi_i / n)\n",
    "        for j in range(n//2):\n",
    "            omega_pow_j = omega ** j\n",
    "            y[j] = y_even[j] + omega_pow_j * y_odd[j]\n",
    "            y[j + n//2] = y_even[j] - omega_pow_j * y_odd[j]\n",
    "        return y\n",
    "\n",
    "    n = len(poly)\n",
    "    ifft_result = ifft_helper(poly)\n",
    "    \n",
    "    # the normalization step\n",
    "    # divide every element by n\n",
    "    return [ i/n for i in ifft_result ]"
   ]
  },
  {
   "cell_type": "code",
   "execution_count": 19,
   "id": "9d497e57",
   "metadata": {},
   "outputs": [
    {
     "name": "stdout",
     "output_type": "stream",
     "text": [
      "FFT is [(27+0j), (1.707106781186548+4.535533905932738j), (-2.000000000000001-5j), (0.2928932188134533+2.5355339059327378j), (-3+0j), (0.2928932188134521-2.5355339059327378j), (-1.999999999999999+5j), (1.7071067811865466-4.535533905932738j)]\n",
      "new_x is [3.0, 4.0, 4.0, 6.0, 2.0, 1.0, 3.0, 4.0]\n"
     ]
    }
   ],
   "source": [
    "x = [ 3, 4, 4, 6, 2, 1, 3, 4]\n",
    "\n",
    "print(\"FFT is\", FFT(x))\n",
    "\n",
    "# small imaginary parts result due to floating point\n",
    "# computation. Just ignore imaginary parts as we know our\n",
    "# polynomial has only real coefficients\n",
    "\n",
    "# after inverse it should be equal to x\n",
    "new_x = [i.real for i in IFFT(FFT(x))]\n",
    "print(\"new_x is\", new_x)"
   ]
  },
  {
   "cell_type": "code",
   "execution_count": 20,
   "id": "c724a41d",
   "metadata": {},
   "outputs": [
    {
     "name": "stdout",
     "output_type": "stream",
     "text": [
      "Is x == newx ? True\n"
     ]
    }
   ],
   "source": [
    "print(\"Is x == newx ?\", x == new_x)"
   ]
  },
  {
   "cell_type": "markdown",
   "id": "129c76a0",
   "metadata": {},
   "source": [
    "### let's compare our FFT function with the numpy package's fft version\n",
    "\n",
    "**[numpy.fft.fft](https://numpy.org/doc/stable/reference/generated/numpy.fft.fft.html)**"
   ]
  },
  {
   "cell_type": "code",
   "execution_count": 21,
   "id": "9e3ef35b",
   "metadata": {},
   "outputs": [
    {
     "data": {
      "text/plain": [
       "False"
      ]
     },
     "execution_count": 21,
     "metadata": {},
     "output_type": "execute_result"
    }
   ],
   "source": [
    "\n",
    "import numpy as np\n",
    "\n",
    "x = [ 3, 4, 4, 6, 2, 1, 3, 4]\n",
    "\n",
    "# np.allclose returns True if two arrays are element-wise equal within a tolerance.\n",
    "# We compute FFT by our function FFT and np.fft.fft and compare the resulting arrays.\n",
    "\n",
    "np.allclose(np.fft.fft(x), FFT(x))"
   ]
  },
  {
   "cell_type": "markdown",
   "id": "0192ac1b",
   "metadata": {},
   "source": [
    "## Oops! Something \"wrong\"?!\n",
    "\n",
    "### what's the problem?\n",
    "\n",
    "The numpy fft uses  \n",
    "\n",
    "\\begin{gather*}\n",
    "\\omega \\ =\\ e^{-2\\pi i/n}\\\\\n",
    "\\end{gather*}\n",
    "\n",
    "in the forward FFT and uses \n",
    "\n",
    "\n",
    "\\begin{gather*}\n",
    "\\omega \\ =\\ e^{2\\pi i/n}\\\\\n",
    "\\end{gather*}\n",
    "\n",
    "in the inverse FFT! \n",
    "\n",
    "Also, some books use 1/sqrt(n) as normalization factor for both FFT and IFFT - rather then 1 for FFI and 1/n for IFFT.\n",
    "\n",
    "\n",
    "Let's fix our FFT and IFFT to use the same convention as used by numpy's fft and ifft!"
   ]
  },
  {
   "cell_type": "code",
   "execution_count": 22,
   "id": "8a18a9ec",
   "metadata": {},
   "outputs": [],
   "source": [
    "# our FFT and IFFT changed to behave exactly like numpy's fft and ifft functions\n",
    "\n",
    "def FFT(poly):\n",
    "    n = len(poly)\n",
    "    if n == 1:\n",
    "        return poly\n",
    "\n",
    "    poly_even = poly[::2]\n",
    "    poly_odd = poly[1::2]\n",
    "    y_even = FFT(poly_even)\n",
    "    y_odd = FFT(poly_odd)\n",
    "\n",
    "    y = [0]*n\n",
    "    omega = cmath.exp(-two_pi_i / n)\n",
    "    for j in range(n//2):\n",
    "        omega_pow_j = omega ** j\n",
    "        y[j] = y_even[j] + omega_pow_j * y_odd[j]\n",
    "        y[j + n//2] = y_even[j] - omega_pow_j * y_odd[j]\n",
    "    return y\n",
    "\n",
    "def IFFT(poly):\n",
    "    def ifft_helper(poly):\n",
    "        n = len(poly)\n",
    "        if n == 1:\n",
    "            return poly\n",
    "\n",
    "        \n",
    "        poly_even = poly[::2]\n",
    "        poly_odd = poly[1::2]\n",
    "        y_even = ifft_helper(poly_even)\n",
    "        y_odd = ifft_helper(poly_odd)\n",
    "\n",
    "        y = [0]*n\n",
    "        omega = cmath.exp(two_pi_i / n)\n",
    "        for j in range(n//2):\n",
    "            omega_pow_j = omega ** j\n",
    "            y[j] = y_even[j] + omega_pow_j * y_odd[j]\n",
    "            y[j + n//2] = y_even[j] - omega_pow_j * y_odd[j]\n",
    "        return y\n",
    "\n",
    "    # normalization step\n",
    "    n = len(poly)\n",
    "    ifft_result = ifft_helper(poly)\n",
    "    return [ i/n for i in ifft_result ]"
   ]
  },
  {
   "cell_type": "code",
   "execution_count": 23,
   "id": "e738c434",
   "metadata": {},
   "outputs": [
    {
     "data": {
      "text/plain": [
       "True"
      ]
     },
     "execution_count": 23,
     "metadata": {},
     "output_type": "execute_result"
    }
   ],
   "source": [
    "# let's sanity check our FFT function using numpy package's fft\n",
    "\n",
    "import numpy as np\n",
    "\n",
    "x = [ 3, 4, 4, 6, 2, 1, 3, 4]\n",
    "\n",
    "# np.allclose returns True if two arrays are element-wise equal within a tolerance.\n",
    "np.allclose(np.fft.fft(x), FFT(x))"
   ]
  },
  {
   "cell_type": "code",
   "execution_count": 24,
   "id": "0e7070b8",
   "metadata": {},
   "outputs": [
    {
     "data": {
      "text/plain": [
       "True"
      ]
     },
     "execution_count": 24,
     "metadata": {},
     "output_type": "execute_result"
    }
   ],
   "source": [
    "# let's sanity check our IFFT function using numpy package's ifft\n",
    "\n",
    "import numpy as np\n",
    "\n",
    "x = [ 3, 4, 4, 6, 2, 1, 3, 4]\n",
    "x_fft = FFT(x)\n",
    "\n",
    "# np.allclose returns True if two arrays are element-wise equal within a tolerance.\n",
    "np.allclose(np.fft.ifft(x), IFFT(x))"
   ]
  },
  {
   "cell_type": "markdown",
   "id": "b58d5b99",
   "metadata": {},
   "source": [
    "## Good! FFT and IFFT functions work same as the corresponding numpy versions.. \n",
    "\n",
    "##  Let's now implement polynomial multiplication using FFT and IFFT"
   ]
  },
  {
   "cell_type": "code",
   "execution_count": 25,
   "id": "dbf9b699",
   "metadata": {},
   "outputs": [],
   "source": [
    "# our FFT and IFFT functions expect 2^k values for some positive integer k.\n",
    "# But polynomials we multiply may not result in a polynomial with 2^k values in\n",
    "# the coefficient representation. We need a utility function that finds the nearest\n",
    "# power of 2 that's more or than or equal to a given integer n\n",
    "\n",
    "\n",
    "# See also \n",
    "# https://stackoverflow.com/questions/1322510/given-an-integer-how-do-i-find-the-next-largest-power-of-two-using-bit-twiddlin\n",
    "\n",
    "def next_power_of_two(n):\n",
    "    return 2**(n-1).bit_length()"
   ]
  },
  {
   "cell_type": "code",
   "execution_count": 26,
   "id": "9d9af646",
   "metadata": {},
   "outputs": [
    {
     "data": {
      "text/plain": [
       "16"
      ]
     },
     "execution_count": 26,
     "metadata": {},
     "output_type": "execute_result"
    }
   ],
   "source": [
    "next_power_of_two(10)"
   ]
  },
  {
   "cell_type": "code",
   "execution_count": 27,
   "id": "84c7f4b9",
   "metadata": {},
   "outputs": [
    {
     "data": {
      "text/plain": [
       "8"
      ]
     },
     "execution_count": 27,
     "metadata": {},
     "output_type": "execute_result"
    }
   ],
   "source": [
    "next_power_of_two(8)"
   ]
  },
  {
   "cell_type": "code",
   "execution_count": 28,
   "id": "f42ad188",
   "metadata": {},
   "outputs": [
    {
     "data": {
      "text/plain": [
       "32"
      ]
     },
     "execution_count": 28,
     "metadata": {},
     "output_type": "execute_result"
    }
   ],
   "source": [
    "next_power_of_two(19)"
   ]
  },
  {
   "cell_type": "markdown",
   "id": "01081034",
   "metadata": {},
   "source": [
    "## Polynomial multiplication using FFT and IFFT"
   ]
  },
  {
   "cell_type": "code",
   "execution_count": 29,
   "id": "5c5d89b4",
   "metadata": {},
   "outputs": [],
   "source": [
    "# Multiply two polynomials given in coefficient representation\n",
    "# efficiently using the FFT algortithm\n",
    "\n",
    "def poly_multiply_fft(A, B):\n",
    "   # find the number of coefficients in product polynomial\n",
    "   # and round it upwards to the nearest power of two\n",
    "   length = next_power_of_two(len(A) + len(B) - 1)\n",
    "\n",
    "   # extends A, B with zero values to have length number of coefficients\n",
    "   A_stuffed = [0]*length\n",
    "   B_stuffed = [0]*length\n",
    "   for i in range(len(A)):\n",
    "       A_stuffed[i] = A[i]\n",
    "   for i in range(len(B)):\n",
    "       B_stuffed[i] = B[i]\n",
    "\n",
    "   # convert polynomial A to value representation using FFT\n",
    "   fft_a = FFT(A_stuffed)\n",
    "\n",
    "   # convert polynomial B to value representation using FFT\n",
    "   fft_b = FFT(B_stuffed)\n",
    "\n",
    "   # multiply polynomials in value representation\n",
    "   # This is just multiplying the corresponding values\n",
    "   fft_ab = [fft_a[i]*fft_b[i] for i in range(len(fft_a))]\n",
    "\n",
    "   # convert product polynomial from value representatio to\n",
    "   # coefficient representation using IFFT\n",
    "   # NOTE: we deal with polynomial with real coefficients.\n",
    "   # Due to floating point issues, we get small imaginary parts\n",
    "   # in the result. We just take only the real part.\n",
    "    \n",
    "   return [i.real for i in IFFT(fft_ab)]"
   ]
  },
  {
   "cell_type": "code",
   "execution_count": 30,
   "id": "a0c25986",
   "metadata": {},
   "outputs": [
    {
     "name": "stdout",
     "output_type": "stream",
     "text": [
      "3 + 4x + 2x^2 + 4x^3\n",
      "3 + 4x + 1x^2\n",
      "9 + 24x + 25x^2 + 24x^3 + 18x^4 + 4x^5\n",
      "9.0 + 24.0x + 25.0x^2 + 24.0x^3 + 18.0x^4 + 4.0x^5 + 1.7763568394002505e-15x^6 + 0.0x^7\n"
     ]
    }
   ],
   "source": [
    "p1 = [3, 4, 2, 4]\n",
    "poly_print(p1)\n",
    "p2 = [3, 4, 1]\n",
    "poly_print(p2);\n",
    "poly_print(poly_multiply(p1, p2))\n",
    "poly_print(poly_multiply_fft(p1, p2))"
   ]
  },
  {
   "cell_type": "markdown",
   "id": "99270d64",
   "metadata": {},
   "source": [
    "## How good is poly_multiply_fft compared to poly_multiply?\n",
    "\n",
    "We've written straightforward code. But let's compare poly_multiply_fft and poly_multiply just for fun..\n",
    "\n",
    "Let's use ipython magic %timeit to compare.."
   ]
  },
  {
   "cell_type": "code",
   "execution_count": 31,
   "id": "4342557f",
   "metadata": {},
   "outputs": [
    {
     "name": "stdout",
     "output_type": "stream",
     "text": [
      "2.5 µs ± 101 ns per loop (mean ± std. dev. of 7 runs, 100000 loops each)\n"
     ]
    }
   ],
   "source": [
    "%timeit poly_multiply(p1, p2)"
   ]
  },
  {
   "cell_type": "code",
   "execution_count": 32,
   "id": "b32347d1",
   "metadata": {},
   "outputs": [
    {
     "name": "stdout",
     "output_type": "stream",
     "text": [
      "30.9 µs ± 921 ns per loop (mean ± std. dev. of 7 runs, 10000 loops each)\n"
     ]
    }
   ],
   "source": [
    "%timeit poly_multiply_fft(p1, p2)"
   ]
  },
  {
   "cell_type": "markdown",
   "id": "d0069bd9",
   "metadata": {},
   "source": [
    "### Hmm.. poly_multiply_fft takes more time? Let's try some large degree polynomials"
   ]
  },
  {
   "cell_type": "code",
   "execution_count": 33,
   "id": "4bd337f2",
   "metadata": {},
   "outputs": [],
   "source": [
    "import random \n",
    "\n",
    "# generate two 2407 degree polynomials\n",
    "p1 = [random.random() for i in range(2048)]\n",
    "p2 = [random.random() for i in range(2048)]"
   ]
  },
  {
   "cell_type": "code",
   "execution_count": 34,
   "id": "f568bbfd",
   "metadata": {},
   "outputs": [
    {
     "name": "stdout",
     "output_type": "stream",
     "text": [
      "541 ms ± 18.3 ms per loop (mean ± std. dev. of 7 runs, 1 loop each)\n"
     ]
    }
   ],
   "source": [
    "%timeit poly_multiply(p1, p2)"
   ]
  },
  {
   "cell_type": "code",
   "execution_count": 35,
   "id": "0a4936f9",
   "metadata": {},
   "outputs": [
    {
     "name": "stdout",
     "output_type": "stream",
     "text": [
      "33.2 ms ± 1.03 ms per loop (mean ± std. dev. of 7 runs, 10 loops each)\n"
     ]
    }
   ],
   "source": [
    "%timeit poly_multiply_fft(p1, p2)"
   ]
  },
  {
   "cell_type": "markdown",
   "id": "79379c23",
   "metadata": {},
   "source": [
    "### Let's try larger. How about 16383 degree polynomials?"
   ]
  },
  {
   "cell_type": "code",
   "execution_count": 36,
   "id": "108a380b",
   "metadata": {},
   "outputs": [],
   "source": [
    "p1 = [random.random() for i in range(16384)]\n",
    "p2 = [random.random() for i in range(16384)]"
   ]
  },
  {
   "cell_type": "code",
   "execution_count": 37,
   "id": "90583e8e",
   "metadata": {},
   "outputs": [
    {
     "name": "stdout",
     "output_type": "stream",
     "text": [
      "35.1 s ± 1.39 s per loop (mean ± std. dev. of 7 runs, 1 loop each)\n"
     ]
    }
   ],
   "source": [
    "%timeit poly_multiply(p1, p2)"
   ]
  },
  {
   "cell_type": "code",
   "execution_count": 38,
   "id": "2665ba5a",
   "metadata": {},
   "outputs": [
    {
     "name": "stdout",
     "output_type": "stream",
     "text": [
      "401 ms ± 71.6 ms per loop (mean ± std. dev. of 7 runs, 1 loop each)\n"
     ]
    }
   ],
   "source": [
    "%timeit poly_multiply_fft(p1, p2)"
   ]
  },
  {
   "cell_type": "markdown",
   "id": "1bbbabbc",
   "metadata": {},
   "source": [
    "## Summary\n",
    "\n",
    "\n",
    "1. Polynomial multiplication using the usual \"long multiplication\" is O(d^2)\n",
    "2. Polynomial multiplication using value representaton is O(d).\n",
    "3. But converting between coefficient & value representations is O(d^2) by straightforward method\n",
    "4. But we can exploit \"complex roots of unity\" while converting between representations.\n",
    "5. FFT and IFFT algorithms convert b/w coefficient and value representations in O(d*log(d))\n",
    "\n",
    "\n",
    "**[Watch Recap Video](https://www.youtube.com/watch?v=h7apO7q16V0&t=1609s)**\n",
    "\n",
    "**Congratulations! You've learned FFT!**"
   ]
  }
 ],
 "metadata": {
  "kernelspec": {
   "display_name": "Python 3",
   "language": "python",
   "name": "python3"
  },
  "language_info": {
   "codemirror_mode": {
    "name": "ipython",
    "version": 3
   },
   "file_extension": ".py",
   "mimetype": "text/x-python",
   "name": "python",
   "nbconvert_exporter": "python",
   "pygments_lexer": "ipython3",
   "version": "3.8.8"
  }
 },
 "nbformat": 4,
 "nbformat_minor": 5
}
